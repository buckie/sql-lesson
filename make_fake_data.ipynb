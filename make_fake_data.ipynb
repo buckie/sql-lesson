{
 "metadata": {
  "name": "",
  "signature": "sha256:804ea7503e614a35040cee9878fe67e50836b1f74056786b79932f891395175d"
 },
 "nbformat": 3,
 "nbformat_minor": 0,
 "worksheets": [
  {
   "cells": [
    {
     "cell_type": "code",
     "collapsed": false,
     "input": [
      "import pandas as pd\n",
      "from faker import Faker\n",
      "from random import randint, choice\n",
      "from collections import OrderedDict\n",
      "from sqlite3 import connect"
     ],
     "language": "python",
     "metadata": {},
     "outputs": [
      {
       "output_type": "stream",
       "stream": "stderr",
       "text": [
        "Vendor:  Continuum Analytics, Inc.\n",
        "Package: mkl\n",
        "Message: trial mode expires in 30 days\n"
       ]
      }
     ],
     "prompt_number": 1
    },
    {
     "cell_type": "code",
     "collapsed": false,
     "input": [
      "fake = Faker()\n",
      "fake.seed(1111)\n",
      "\n",
      "# conn = connect('sample.sqlite')\n",
      "conn = connect('sample-noindex.sqlite')\n",
      "# conn = connect('sample-index.sqlite')"
     ],
     "language": "python",
     "metadata": {},
     "outputs": [],
     "prompt_number": 14
    },
    {
     "cell_type": "code",
     "collapsed": false,
     "input": [
      "def fake_people(num=20):\n",
      "    \n",
      "    for i in range(num):\n",
      "        row = OrderedDict()\n",
      "        uid = i\n",
      "        \n",
      "        if randint(0,1):\n",
      "            gender = 'male'\n",
      "            first_name = fake.first_name_male()\n",
      "        else:\n",
      "            gender = 'female'\n",
      "            first_name = fake.first_name_female()\n",
      "        \n",
      "        last_name = fake.last_name()\n",
      "        \n",
      "        age = randint(18,60)\n",
      "        color = choice(['red','blue','green','purple'])\n",
      "        address = fake.street_address()\n",
      "        city = fake.city()\n",
      "        state = fake.state_abbr()\n",
      "        zipcode = fake.postalcode()\n",
      "        start_date = str(fake.date_time_this_year())\n",
      "        \n",
      "        yield [uid, first_name, last_name, gender, age, color, address, city, state, zipcode, start_date]\n",
      "\n",
      "fake_people_colnames = ['uid', 'first_name', 'last_name', 'gender', 'age', 'color', 'address', 'city', 'state', 'zipcode', 'start_date']"
     ],
     "language": "python",
     "metadata": {},
     "outputs": [],
     "prompt_number": 3
    },
    {
     "cell_type": "code",
     "collapsed": false,
     "input": [
      "fk_ppl = pd.DataFrame(fake_people(10000), columns=fake_people_colnames)"
     ],
     "language": "python",
     "metadata": {},
     "outputs": [],
     "prompt_number": 4
    },
    {
     "cell_type": "code",
     "collapsed": false,
     "input": [
      "fk_ppl.to_csv('./fake_people.csv', index=False, mode='w')"
     ],
     "language": "python",
     "metadata": {},
     "outputs": [],
     "prompt_number": 5
    },
    {
     "cell_type": "code",
     "collapsed": false,
     "input": [
      "fk_ppl.to_sql('users', conn, if_exists='append', index=False)"
     ],
     "language": "python",
     "metadata": {},
     "outputs": [],
     "prompt_number": 15
    },
    {
     "cell_type": "code",
     "collapsed": false,
     "input": [
      "def fake_tweets(num=10):\n",
      "    for i in range(num):\n",
      "        uid = randint(0,10000)\n",
      "        if not randint(0,10):\n",
      "            tweet = choice([\"IT'S GONNA RAIN!\", \"IT'S RAININ' SIDEWAYS!\"])\n",
      "        else:\n",
      "            tweet = choice([\"I'M AT THE WRONG AIRPORT!\", \"SPACE WEATHER!\", \"BRING ME SOME SOUP!\", \"EVERYBODY LOOKS LIKE ANTS!\"\n",
      "                            \"CHER!\", \"AHH!\"])\n",
      "        \n",
      "        location = fake.state_abbr()\n",
      "        \n",
      "        yield [i, uid, location, tweet]\n",
      "        \n",
      "fake_tweets_colnames = [\"tid\", \"uid\", \"state\", \"tweet\"]"
     ],
     "language": "python",
     "metadata": {},
     "outputs": [],
     "prompt_number": 10
    },
    {
     "cell_type": "code",
     "collapsed": false,
     "input": [
      "fk_twts = pd.DataFrame(fake_tweets(1000000), columns=fake_tweets_colnames)"
     ],
     "language": "python",
     "metadata": {},
     "outputs": [],
     "prompt_number": 11
    },
    {
     "cell_type": "code",
     "collapsed": false,
     "input": [
      "fk_twts.to_csv('./fake_tweets.csv', index=False, mode='w')"
     ],
     "language": "python",
     "metadata": {},
     "outputs": [],
     "prompt_number": 12
    },
    {
     "cell_type": "code",
     "collapsed": false,
     "input": [
      "fk_twts.to_sql('tweets', conn, if_exists='append', index=False)"
     ],
     "language": "python",
     "metadata": {},
     "outputs": [],
     "prompt_number": 16
    },
    {
     "cell_type": "code",
     "collapsed": false,
     "input": [],
     "language": "python",
     "metadata": {},
     "outputs": []
    }
   ],
   "metadata": {}
  }
 ]
}